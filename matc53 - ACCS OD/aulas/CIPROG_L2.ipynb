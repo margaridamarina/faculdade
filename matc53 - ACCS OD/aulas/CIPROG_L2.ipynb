{
  "nbformat": 4,
  "nbformat_minor": 0,
  "metadata": {
    "colab": {
      "provenance": [],
      "toc_visible": true,
      "collapsed_sections": [
        "eZXLDn67wrfz",
        "CZgc6spBxVqB",
        "QZkK9__mx0JU",
        "WwJRiVtsymfM",
        "1XssYaNXytK9",
        "8mOC99FDzSmi",
        "PmJiTG-l0JXy",
        "NxKX1P3n0a2D",
        "4xaQ0_1V06hw",
        "rKNGeump1PpC",
        "EFf3DqBvCe2e",
        "jWphnwigDI7E",
        "qgn-yWfaDaHs",
        "G14XGrYaDqqo",
        "7N2_ocpSTODo"
      ]
    },
    "kernelspec": {
      "name": "python3",
      "display_name": "Python 3"
    },
    "language_info": {
      "name": "python"
    }
  },
  "cells": [
    {
      "cell_type": "markdown",
      "source": [
        "# CIPROG Turma Mista - Lista de Exercícios 2\n"
      ],
      "metadata": {
        "id": "goh5Mye01gBN"
      }
    },
    {
      "cell_type": "markdown",
      "source": [
        "### Questão 1. Faça um algoritmo que verifique se uma letra digitada é vogal ou consoante."
      ],
      "metadata": {
        "id": "eZXLDn67wrfz"
      }
    },
    {
      "cell_type": "code",
      "execution_count": null,
      "metadata": {
        "colab": {
          "base_uri": "https://localhost:8080/"
        },
        "id": "PTrJcsCtwnQ3",
        "outputId": "963fead3-f7fe-4c26-bafd-4c9e38c1e77f"
      },
      "outputs": [
        {
          "output_type": "stream",
          "name": "stdout",
          "text": [
            "Digite uma letra: G\n",
            "A letra digitada é uma consoante.\n"
          ]
        }
      ],
      "source": [
        "# Lendo a letra digitada pelo usuário\n",
        "letra = input(\"Digite uma letra: \")\n",
        "\n",
        "# Convertendo para minúscula para simplificar a comparação\n",
        "letra = letra.lower()\n",
        "\n",
        "# Verificando se a letra é uma vogal\n",
        "if letra in 'aeiou':\n",
        "    print(\"A letra digitada é uma vogal.\")\n",
        "# Verificando se a letra é uma consoante (assumindo que seja uma letra do alfabeto)\n",
        "elif letra.isalpha():\n",
        "    print(\"A letra digitada é uma consoante.\")\n",
        "# Caso a entrada não seja uma letra\n",
        "else:\n",
        "    print(\"Por favor, digite uma letra do alfabeto.\")"
      ]
    },
    {
      "cell_type": "markdown",
      "source": [
        "### Questão 2. Faça um algoritmo que pergunte o preço de três produtos e informe qual produto você deve comprar, sabendo que a decisão é sempre pelo mais barato."
      ],
      "metadata": {
        "id": "CZgc6spBxVqB"
      }
    },
    {
      "cell_type": "code",
      "source": [
        "# Lendo os preços dos três produtos\n",
        "preco_produto1 = float(input(\"Digite o preço do primeiro produto: \"))\n",
        "preco_produto2 = float(input(\"Digite o preço do segundo produto: \"))\n",
        "preco_produto3 = float(input(\"Digite o preço do terceiro produto: \"))\n",
        "\n",
        "# Verificando qual produto é o mais barato\n",
        "if preco_produto1 < preco_produto2 and preco_produto1 < preco_produto3:\n",
        "    print(\"Você deve comprar o primeiro produto.\")\n",
        "elif preco_produto2 < preco_produto1 and preco_produto2 < preco_produto3:\n",
        "    print(\"Você deve comprar o segundo produto.\")\n",
        "elif preco_produto3 < preco_produto1 and preco_produto3 < preco_produto2:\n",
        "    print(\"Você deve comprar o terceiro produto.\")\n",
        "else:\n",
        "    print(\"Dois ou mais produtos têm o mesmo preço mais baixo. Você pode escolher qualquer um deles.\")"
      ],
      "metadata": {
        "colab": {
          "base_uri": "https://localhost:8080/"
        },
        "id": "52cetzltxgQr",
        "outputId": "41994609-d3e5-42b5-db52-94f83ede3afd"
      },
      "execution_count": null,
      "outputs": [
        {
          "output_type": "stream",
          "name": "stdout",
          "text": [
            "Digite o preço do primeiro produto: 2.5\n",
            "Digite o preço do segundo produto: 7.8\n",
            "Digite o preço do terceiro produto: 7.89\n",
            "Você deve comprar o primeiro produto.\n"
          ]
        }
      ]
    },
    {
      "cell_type": "markdown",
      "source": [
        "### Questão 3. Faça um algoritmo que leia um número e exiba o dia correspondente da semana. (1-Domingo, 2- Segunda, etc.), se digitar outro valor deve aparecer valor inválido."
      ],
      "metadata": {
        "id": "QZkK9__mx0JU"
      }
    },
    {
      "cell_type": "code",
      "source": [
        "# Lendo o número correspondente ao dia da semana\n",
        "numero_dia = int(input(\"Digite um número de 1 a 7 para representar um dia da semana: \"))\n",
        "\n",
        "# Verificando e exibindo o dia da semana correspondente\n",
        "if numero_dia == 1:\n",
        "    print(\"Domingo\")\n",
        "elif numero_dia == 2:\n",
        "    print(\"Segunda-feira\")\n",
        "elif numero_dia == 3:\n",
        "    print(\"Terça-feira\")\n",
        "elif numero_dia == 4:\n",
        "    print(\"Quarta-feira\")\n",
        "elif numero_dia == 5:\n",
        "    print(\"Quinta-feira\")\n",
        "elif numero_dia == 6:\n",
        "    print(\"Sexta-feira\")\n",
        "elif numero_dia == 7:\n",
        "    print(\"Sábado\")\n",
        "else:\n",
        "    print(\"Valor inválido. Por favor, digite um número de 1 a 7 para representar um dia da semana.\")"
      ],
      "metadata": {
        "colab": {
          "base_uri": "https://localhost:8080/"
        },
        "id": "C1FmvQOXx8Pu",
        "outputId": "8434019c-a6f2-4a77-cf43-37a65433a192"
      },
      "execution_count": null,
      "outputs": [
        {
          "output_type": "stream",
          "name": "stdout",
          "text": [
            "Digite um número de 1 a 7 para representar um dia da semana: 5\n",
            "Quinta-feira\n"
          ]
        }
      ]
    },
    {
      "cell_type": "markdown",
      "source": [
        "### Questão 4. Faça um algoritmo que pergunte em que turno você estuda. Peça para digitar M-matutino ou V-Vespertino ou N-Noturno. Imprima a mensagem \"Bom Dia!\", \"Boa Tarde!\" ou \"Boa Noite!\" ou \"Valor Inválido!\", conforme o caso."
      ],
      "metadata": {
        "id": "WwJRiVtsymfM"
      }
    },
    {
      "cell_type": "code",
      "source": [
        "# Lendo o turno em que o usuário estuda\n",
        "turno = input(\"Em que turno você estuda? (M - Matutino, V - Vespertino, N - Noturno): \")\n",
        "\n",
        "# Convertendo o turno para letras minúsculas para facilitar a comparação\n",
        "turno = turno.lower()\n",
        "\n",
        "# Verificando o turno e imprimindo a mensagem apropriada\n",
        "if turno == 'm':\n",
        "    print(\"Bom Dia!\")\n",
        "elif turno == 'v':\n",
        "    print(\"Boa Tarde!\")\n",
        "elif turno == 'n':\n",
        "    print(\"Boa Noite!\")\n",
        "else:\n",
        "    print(\"Valor Inválido!\")"
      ],
      "metadata": {
        "colab": {
          "base_uri": "https://localhost:8080/"
        },
        "id": "9195K-Fpy6K3",
        "outputId": "281144c5-f8b6-4c4c-aa47-73c3a459a187"
      },
      "execution_count": null,
      "outputs": [
        {
          "output_type": "stream",
          "name": "stdout",
          "text": [
            "Em que turno você estuda? (M - Matutino, V - Vespertino, N - Noturno): M\n",
            "Bom Dia!\n"
          ]
        }
      ]
    },
    {
      "cell_type": "markdown",
      "source": [
        "### Questão 5. Faça um algoritmo para a leitura de duas notas parciais de um aluno. O programa deve calcular a média alcançada por aluno e apresentar: A mensagem \"Aprovado\", se a média alcançada for maior ou igual a sete; A mensagem \"Reprovado\", se a média for menor do que sete; A mensagem \"Aprovado com Distinção\", se a média for igual a dez."
      ],
      "metadata": {
        "id": "1XssYaNXytK9"
      }
    },
    {
      "cell_type": "code",
      "source": [
        "# Lendo as duas notas parciais do aluno\n",
        "nota1 = float(input(\"Digite a primeira nota: \"))\n",
        "nota2 = float(input(\"Digite a segunda nota: \"))\n",
        "\n",
        "# Calculando a média\n",
        "media = (nota1 + nota2) / 2\n",
        "\n",
        "# Verificando a situação do aluno e imprimindo a mensagem apropriada\n",
        "if media == 10:\n",
        "    print(\"Aprovado com Distinção\")\n",
        "elif media >= 7:\n",
        "    print(\"Aprovado\")\n",
        "else:\n",
        "    print(\"Reprovado\")"
      ],
      "metadata": {
        "colab": {
          "base_uri": "https://localhost:8080/"
        },
        "id": "sqa4C4p0zG7I",
        "outputId": "39b48a63-2bcb-4982-c9c7-31857fdbd642"
      },
      "execution_count": null,
      "outputs": [
        {
          "output_type": "stream",
          "name": "stdout",
          "text": [
            "Digite a primeira nota: 7\n",
            "Digite a segunda nota: 6.9\n",
            "Reprovado\n"
          ]
        }
      ]
    },
    {
      "cell_type": "markdown",
      "source": [
        "### Questão 6. Faça um algoritmo que solicite a data de nascimento no formato dd/mm/aaaa e imprima a data com o nome do mês por extenso. Exemplo: Data de nascimento: 29/10/1973 -  Você nasceu em 29 de Outubro de 1973."
      ],
      "metadata": {
        "id": "8mOC99FDzSmi"
      }
    },
    {
      "cell_type": "code",
      "source": [
        "# Definindo um dicionário para mapear números de mês para nomes de mês por extenso\n",
        "meses_extenso = {\n",
        "    '01': 'Janeiro', '02': 'Fevereiro', '03': 'Março', '04': 'Abril',\n",
        "    '05': 'Maio', '06': 'Junho', '07': 'Julho', '08': 'Agosto',\n",
        "    '09': 'Setembro', '10': 'Outubro', '11': 'Novembro', '12': 'Dezembro'\n",
        "}\n",
        "\n",
        "# Lendo a data de nascimento no formato dd/mm/aaaa\n",
        "data_nascimento = input(\"Digite sua data de nascimento (dd/mm/aaaa): \")\n",
        "\n",
        "# Dividindo a data em dia, mês e ano\n",
        "dia, mes, ano = data_nascimento.split('/')\n",
        "\n",
        "# Obtendo o nome do mês por extenso usando o dicionário meses_extenso\n",
        "mes_extenso = meses_extenso[mes]\n",
        "\n",
        "# Imprimindo a data de nascimento com o nome do mês por extenso\n",
        "print(\"Você nasceu em\", dia, \"de\", mes_extenso, \"de\", ano)"
      ],
      "metadata": {
        "colab": {
          "base_uri": "https://localhost:8080/"
        },
        "id": "nsXIxrBlzZJB",
        "outputId": "970e1efa-edff-4c97-94ff-544be1c888a6"
      },
      "execution_count": null,
      "outputs": [
        {
          "output_type": "stream",
          "name": "stdout",
          "text": [
            "Digite sua data de nascimento (dd/mm/aaaa): 12/04/2000\n",
            "Você nasceu em 12 de Abril de 2000\n"
          ]
        }
      ]
    },
    {
      "cell_type": "markdown",
      "source": [
        "### Questão 7. Faça um algoritmo que lê uma palavra ou frase e transforma suas vogais em maiúsculo e as consoantes em minúsculo. Em seguida imprime a palavra/frase resultante."
      ],
      "metadata": {
        "id": "PmJiTG-l0JXy"
      }
    },
    {
      "cell_type": "code",
      "source": [
        "# Lendo a palavra ou frase do usuário\n",
        "palavra_frase = input(\"Digite uma palavra ou frase: \")\n",
        "\n",
        "# Definindo uma lista de vogais\n",
        "vogais = 'aeiouAEIOU'\n",
        "\n",
        "# Transformando as vogais em maiúsculo e as consoantes em minúsculo\n",
        "resultado = ''.join(letra.upper() if letra in vogais else letra.lower() for letra in palavra_frase)\n",
        "\n",
        "# Imprimindo a palavra/frase resultante\n",
        "print(\"Palavra/Frase resultante:\", resultado)"
      ],
      "metadata": {
        "colab": {
          "base_uri": "https://localhost:8080/"
        },
        "id": "NZLJfn220NgR",
        "outputId": "4a20807f-2b52-4f99-902a-7b638c1dee52"
      },
      "execution_count": null,
      "outputs": [
        {
          "output_type": "stream",
          "name": "stdout",
          "text": [
            "Digite uma palavra ou frase: ABC DO bbrasil\n",
            "Palavra/Frase resultante: Abc dO bbrAsIl\n"
          ]
        }
      ]
    },
    {
      "cell_type": "markdown",
      "source": [
        "### Questão 8. Faça um algoritmo que leia um número de telefone, e corrija o número no caso deste conter somente 8 dígitos, acrescentando o '9' na frente."
      ],
      "metadata": {
        "id": "NxKX1P3n0a2D"
      }
    },
    {
      "cell_type": "code",
      "source": [
        "# Lendo o número de telefone do usuário\n",
        "numero_telefone = input(\"Digite o número de telefone: \")\n",
        "\n",
        "# Verificando se o número tem apenas 8 dígitos\n",
        "if len(numero_telefone) == 8:\n",
        "    numero_corrigido = '9' + numero_telefone\n",
        "    print(\"Número corrigido:\", numero_corrigido)\n",
        "elif len(numero_telefone) < 8:\n",
        "    print(\"Número de telefone inválido\")\n",
        "else:\n",
        "    print(\"Número não precisa de correção.\")"
      ],
      "metadata": {
        "colab": {
          "base_uri": "https://localhost:8080/"
        },
        "id": "c-OpOA2O0zp2",
        "outputId": "60acfea5-3b0c-47a5-b02c-51030b9ea540"
      },
      "execution_count": null,
      "outputs": [
        {
          "output_type": "stream",
          "name": "stdout",
          "text": [
            "Digite o número de telefone: 987654560\n",
            "Número não precisa de correção.\n"
          ]
        }
      ]
    },
    {
      "cell_type": "markdown",
      "source": [
        "### Questão 9. Faça um algoritmo que substitui as ocorrências de um caractere 'A' em uma string por outro caractere 'B'"
      ],
      "metadata": {
        "id": "4xaQ0_1V06hw"
      }
    },
    {
      "cell_type": "code",
      "source": [
        "# Lendo a string do usuário\n",
        "string = input(\"Digite uma string: \")\n",
        "\n",
        "# Substituindo todas as ocorrências de 'A' por 'B'\n",
        "nova_string = string.replace('A', 'B')\n",
        "\n",
        "# Imprimindo a nova string com as substituições feitas\n",
        "print(\"String com as ocorrências de 'A' substituídas por 'B':\", nova_string)"
      ],
      "metadata": {
        "colab": {
          "base_uri": "https://localhost:8080/"
        },
        "id": "0lLpsYjY1DBB",
        "outputId": "f1a4a75c-c062-4a5e-b793-b55944d20b9a"
      },
      "execution_count": null,
      "outputs": [
        {
          "output_type": "stream",
          "name": "stdout",
          "text": [
            "Digite uma string: AAAAAAAAAAAA\n",
            "String com as ocorrências de 'A' substituídas por 'B': BBBBBBBBBBBB\n"
          ]
        }
      ]
    },
    {
      "cell_type": "markdown",
      "source": [
        "### Questão 10. Faça um algoritmo que receba uma palavra e a imprima de trás para frente."
      ],
      "metadata": {
        "id": "rKNGeump1PpC"
      }
    },
    {
      "cell_type": "code",
      "source": [
        "# Lendo a palavra do usuário\n",
        "palavra = input(\"Digite uma palavra: \")\n",
        "\n",
        "# Imprimindo a palavra de trás para frente\n",
        "print(\"Palavra de trás para frente:\", palavra[::-1])"
      ],
      "metadata": {
        "colab": {
          "base_uri": "https://localhost:8080/"
        },
        "id": "Mi0M325e1V0q",
        "outputId": "593cf1d5-ad92-4a61-9339-603c9b66394a"
      },
      "execution_count": null,
      "outputs": [
        {
          "output_type": "stream",
          "name": "stdout",
          "text": [
            "Digite uma palavra: resfto\n",
            "Palavra de trás para frente: otfser\n"
          ]
        }
      ]
    },
    {
      "cell_type": "markdown",
      "source": [
        "### Questão 11. Utilizando dicionários, faça um algoritmo que peça para o usuário inserir o nome de três produtos de mercado e seus respectivos preços e os mostre na tela."
      ],
      "metadata": {
        "id": "EFf3DqBvCe2e"
      }
    },
    {
      "cell_type": "code",
      "source": [
        "# Pedindo ao usuário para inserir o nome e preço de três produtos\n",
        "produto1 = input(\"Digite o nome do primeiro produto: \")\n",
        "preco1 = float(input(\"Digite o preço do primeiro produto: \"))\n",
        "\n",
        "produto2 = input(\"Digite o nome do segundo produto: \")\n",
        "preco2 = float(input(\"Digite o preço do segundo produto: \"))\n",
        "\n",
        "produto3 = input(\"Digite o nome do terceiro produto: \")\n",
        "preco3 = float(input(\"Digite o preço do terceiro produto: \"))\n",
        "\n",
        "# Criando um dicionário para armazenar os produtos e seus preços\n",
        "produtos_precos = {\n",
        "    produto1: preco1,\n",
        "    produto2: preco2,\n",
        "    produto3: preco3\n",
        "}\n",
        "\n",
        "# Mostrando os produtos e seus preços na tela\n",
        "print(\"Produtos e seus preços:\")\n",
        "print(produtos_precos)\n"
      ],
      "metadata": {
        "colab": {
          "base_uri": "https://localhost:8080/"
        },
        "id": "CfJlc3csCszD",
        "outputId": "9e038393-d53c-4f62-be76-38eb3bad6fe0"
      },
      "execution_count": null,
      "outputs": [
        {
          "output_type": "stream",
          "name": "stdout",
          "text": [
            "Digite o nome do primeiro produto: atc\n",
            "Digite o preço do primeiro produto: 2\n",
            "Digite o nome do segundo produto: fddfgd\n",
            "Digite o preço do segundo produto: 4\n",
            "Digite o nome do terceiro produto: dgdfgdfg\n",
            "Digite o preço do terceiro produto: 5\n",
            "Produtos e seus preços:\n",
            "{'atc': 2.0, 'fddfgd': 4.0, 'dgdfgdfg': 5.0}\n"
          ]
        }
      ]
    },
    {
      "cell_type": "markdown",
      "source": [
        "### Questão 12. Utilizando dicionários, faça um algoritmo que peça para o usuário inserir quatro notas e mostre na tela as notas e a média entre elas."
      ],
      "metadata": {
        "id": "jWphnwigDI7E"
      }
    },
    {
      "cell_type": "code",
      "source": [
        "# Solicitando ao usuário que insira as quatro notas\n",
        "nota1 = float(input(\"Digite a primeira nota: \"))\n",
        "nota2 = float(input(\"Digite a segunda nota: \"))\n",
        "nota3 = float(input(\"Digite a terceira nota: \"))\n",
        "nota4 = float(input(\"Digite a quarta nota: \"))\n",
        "\n",
        "# Calculando a média das notas\n",
        "media = (nota1 + nota2 + nota3 + nota4) / 4\n",
        "\n",
        "# Criando um dicionário com as notas\n",
        "notas = {\n",
        "    \"Nota 1\": nota1,\n",
        "    \"Nota 2\": nota2,\n",
        "    \"Nota 3\": nota3,\n",
        "    \"Nota 4\": nota4\n",
        "}\n",
        "\n",
        "# Mostrando as notas e a média na tela\n",
        "print(\"\\nNotas:\")\n",
        "print(notas)\n",
        "\n",
        "print(\"\\nMédia das notas:\", media)\n"
      ],
      "metadata": {
        "id": "RXc1jS0uDWAO"
      },
      "execution_count": null,
      "outputs": []
    },
    {
      "cell_type": "markdown",
      "source": [
        "### Questão 13. Utilizando sets, faça um algoritmo que calcule o maior e o maior valor em um conjunto."
      ],
      "metadata": {
        "id": "qgn-yWfaDaHs"
      }
    },
    {
      "cell_type": "code",
      "source": [
        "conjunto = {10, 25, 66, 99, 100}\n",
        "\n",
        "# Calculando o maior e o menor valor no conjunto\n",
        "maior_valor = max(conjunto)\n",
        "menor_valor = min(conjunto)\n",
        "\n",
        "# Mostrando o maior e o menor valor na tela\n",
        "print(\"O maior valor no conjunto é:\", maior_valor)\n",
        "print(\"O menor valor no conjunto é:\", menor_valor)"
      ],
      "metadata": {
        "colab": {
          "base_uri": "https://localhost:8080/"
        },
        "id": "12H4Vm2ZDfVL",
        "outputId": "30be0224-c6fc-44af-b090-b58e76721e6d"
      },
      "execution_count": null,
      "outputs": [
        {
          "output_type": "stream",
          "name": "stdout",
          "text": [
            "O maior valor no conjunto é: 100\n",
            "O menor valor no conjunto é: 10\n"
          ]
        }
      ]
    },
    {
      "cell_type": "markdown",
      "source": [
        "### Questão 14. Utilizando lista, faça um algoritmo que leia 3 números e, se for par, insira esse valor na lista, ou caso seja ímpar, remova o último numero inserido na lista. No final, imprima a lista."
      ],
      "metadata": {
        "id": "G14XGrYaDqqo"
      }
    },
    {
      "cell_type": "code",
      "source": [
        "# Inicializando uma lista vazia para armazenar os números pares\n",
        "numeros_pares = []\n",
        "\n",
        "# Lendo os 3 números do usuário\n",
        "for _ in range(3):\n",
        "    numero = int(input(\"Digite um número: \"))\n",
        "\n",
        "    # Verificando se o número é par\n",
        "    if numero % 2 == 0:\n",
        "        # Se for par, adiciona o número à lista\n",
        "        numeros_pares.append(numero)\n",
        "    else:\n",
        "        # Se for ímpar e a lista não estiver vazia, remove o último número inserido\n",
        "        if numeros_pares:\n",
        "            numeros_pares.pop()\n",
        "\n",
        "# Imprimindo a lista final\n",
        "print(\"Lista final:\", numeros_pares)"
      ],
      "metadata": {
        "colab": {
          "base_uri": "https://localhost:8080/"
        },
        "id": "aya6oQVhD0AX",
        "outputId": "29f08711-c0f8-4902-c039-92beadc6df41"
      },
      "execution_count": null,
      "outputs": [
        {
          "output_type": "stream",
          "name": "stdout",
          "text": [
            "Digite um número: 4\n",
            "Digite um número: 8\n",
            "Digite um número: 3\n",
            "Lista final: [4]\n"
          ]
        }
      ]
    },
    {
      "cell_type": "markdown",
      "source": [
        "### Questão 15. Utilizando lista, faça um algoritmo que leia 5 números, insira eles em uma lista, remova um deles e verifique se ele é par"
      ],
      "metadata": {
        "id": "7N2_ocpSTODo"
      }
    },
    {
      "cell_type": "code",
      "source": [
        "# Inicializando uma lista vazia para armazenar os números\n",
        "numeros = []\n",
        "\n",
        "# Lendo os 5 números do usuário e inserindo na lista\n",
        "for _ in range(5):\n",
        "    numero = int(input(\"Digite um número: \"))\n",
        "    numeros.append(numero)\n",
        "\n",
        "# Removendo um número da lista (o último número inserido)\n",
        "numero_removido = numeros.pop()\n",
        "\n",
        "# Verificando se o número removido é par\n",
        "if numero_removido % 2 == 0:\n",
        "    print(\"O número removido é par.\")\n",
        "else:\n",
        "    print(\"O número removido não é par.\")\n",
        "\n",
        "# Imprimindo a lista atualizada\n",
        "print(\"Lista atualizada:\", numeros)"
      ],
      "metadata": {
        "colab": {
          "base_uri": "https://localhost:8080/"
        },
        "id": "Gp04dQN-UxRa",
        "outputId": "491b25a3-f689-43b2-f1f8-13c5a55ae190"
      },
      "execution_count": 1,
      "outputs": [
        {
          "output_type": "stream",
          "name": "stdout",
          "text": [
            "Digite um número: 1\n",
            "Digite um número: 3\n",
            "Digite um número: 5\n",
            "Digite um número: 7\n",
            "Digite um número: 10\n",
            "O número removido é par.\n",
            "Lista atualizada: [1, 3, 5, 7]\n"
          ]
        }
      ]
    }
  ]
}