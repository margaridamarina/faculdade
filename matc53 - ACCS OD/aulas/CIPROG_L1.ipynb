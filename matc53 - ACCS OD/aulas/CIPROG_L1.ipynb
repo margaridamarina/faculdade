{
  "nbformat": 4,
  "nbformat_minor": 0,
  "metadata": {
    "colab": {
      "provenance": [],
      "toc_visible": true
    },
    "kernelspec": {
      "name": "python3",
      "display_name": "Python 3"
    },
    "language_info": {
      "name": "python"
    }
  },
  "cells": [
    {
      "cell_type": "markdown",
      "source": [
        "# CIPROG Turma Mista - Lista de Exercícios 1"
      ],
      "metadata": {
        "id": "goh5Mye01gBN"
      }
    },
    {
      "cell_type": "markdown",
      "source": [
        "### Questão 1. Escreva um algoritmo para ler as dimensões de um retângulo (base e altura), calcular e escrever a área do retângulo."
      ],
      "metadata": {
        "id": "eZXLDn67wrfz"
      }
    },
    {
      "cell_type": "code",
      "execution_count": null,
      "metadata": {
        "colab": {
          "base_uri": "https://localhost:8080/"
        },
        "id": "PTrJcsCtwnQ3",
        "outputId": "07e5cd85-4e15-4f8d-b75c-23e2b281f84e"
      },
      "outputs": [
        {
          "output_type": "stream",
          "name": "stdout",
          "text": [
            "Digite a base do retângulo: 4\n",
            "Digite a altura do retângulo: 5\n",
            "A área do retângulo é: 20.0\n"
          ]
        }
      ],
      "source": [
        "# Lendo as dimensões do retângulo\n",
        "base = float(input(\"Digite a base do retângulo: \"))\n",
        "altura = float(input(\"Digite a altura do retângulo: \"))\n",
        "\n",
        "# Calculando a área do retângulo\n",
        "area = base * altura\n",
        "\n",
        "# Escrevendo a área do retângulo\n",
        "print(\"A área do retângulo é:\", area)"
      ]
    },
    {
      "cell_type": "markdown",
      "source": [
        "### Questão 2. Faça um algoritmo que leia a idade de uma pessoa expressa em anos, meses e dias e escreva a idade dessa pessoa expressa apenas em dias. Considerar ano com 365 dias e mês com 30 dias."
      ],
      "metadata": {
        "id": "CZgc6spBxVqB"
      }
    },
    {
      "cell_type": "code",
      "source": [
        "# Lendo a idade da pessoa em anos, meses e dias\n",
        "anos = int(input(\"Digite a idade em anos: \"))\n",
        "meses = int(input(\"Digite a idade em meses: \"))\n",
        "dias = int(input(\"Digite a idade em dias: \"))\n",
        "\n",
        "# Calculando a idade em dias\n",
        "idade_em_dias = anos * 365 + meses * 30 + dias\n",
        "\n",
        "# Escrevendo a idade da pessoa em dias\n",
        "print(\"A idade da pessoa em dias é:\", idade_em_dias)"
      ],
      "metadata": {
        "colab": {
          "base_uri": "https://localhost:8080/"
        },
        "id": "52cetzltxgQr",
        "outputId": "20b9368e-d0ce-4406-9f6a-609a30d7c918"
      },
      "execution_count": null,
      "outputs": [
        {
          "output_type": "stream",
          "name": "stdout",
          "text": [
            "Digite a idade em anos: 25\n",
            "Digite a idade em meses: 5\n",
            "Digite a idade em dias: 10\n",
            "A idade da pessoa em dias é: 9285\n"
          ]
        }
      ]
    },
    {
      "cell_type": "markdown",
      "source": [
        "### Questão 3. Escreva um algoritmo para ler o número total de eleitores de um município, o número de votos brancos, nulos e válidos. Calcular e escrever o percentual que cada um representa em relação ao total de eleitores."
      ],
      "metadata": {
        "id": "QZkK9__mx0JU"
      }
    },
    {
      "cell_type": "code",
      "source": [
        "# Lendo o número total de eleitores\n",
        "total_eleitores = int(input(\"Digite o número total de eleitores: \"))\n",
        "\n",
        "# Lendo o número de votos brancos\n",
        "votos_brancos = int(input(\"Digite o número de votos brancos: \"))\n",
        "\n",
        "# Lendo o número de votos nulos\n",
        "votos_nulos = int(input(\"Digite o número de votos nulos: \"))\n",
        "\n",
        "# Lendo o número de votos válidos\n",
        "votos_validos = int(input(\"Digite o número de votos válidos: \"))\n",
        "\n",
        "# Calculando os percentuais\n",
        "percentual_brancos = (votos_brancos / total_eleitores) * 100\n",
        "percentual_nulos = (votos_nulos / total_eleitores) * 100\n",
        "percentual_validos = (votos_validos / total_eleitores) * 100\n",
        "\n",
        "# Escrevendo os resultados\n",
        "print(\"Percentual de votos brancos:\", percentual_brancos, \"%\")\n",
        "print(\"Percentual de votos nulos:\", percentual_nulos, \"%\")\n",
        "print(\"Percentual de votos válidos:\", percentual_validos, \"%\")"
      ],
      "metadata": {
        "colab": {
          "base_uri": "https://localhost:8080/"
        },
        "id": "C1FmvQOXx8Pu",
        "outputId": "5da1346a-c551-459a-b08c-9df66394c79b"
      },
      "execution_count": null,
      "outputs": [
        {
          "output_type": "stream",
          "name": "stdout",
          "text": [
            "Digite o número total de eleitores: 2000\n",
            "Digite o número de votos brancos: 1000\n",
            "Digite o número de votos nulos: 500\n",
            "Digite o número de votos válidos: 750\n",
            "Percentual de votos brancos: 50.0 %\n",
            "Percentual de votos nulos: 25.0 %\n",
            "Percentual de votos válidos: 37.5 %\n"
          ]
        }
      ]
    },
    {
      "cell_type": "markdown",
      "source": [
        "### Questão 4. Faça um algoritmo que leia três notas de um aluno, calcule e escreva a média final deste aluno. Considerar que a média é ponderada e que o peso das notas é 2, 3 e 5."
      ],
      "metadata": {
        "id": "WwJRiVtsymfM"
      }
    },
    {
      "cell_type": "code",
      "source": [
        "# Lendo as três notas do aluno\n",
        "nota1 = float(input(\"Digite a primeira nota: \"))\n",
        "nota2 = float(input(\"Digite a segunda nota: \"))\n",
        "nota3 = float(input(\"Digite a terceira nota: \"))\n",
        "\n",
        "# Definindo os pesos das notas\n",
        "peso1 = 2\n",
        "peso2 = 3\n",
        "peso3 = 5\n",
        "\n",
        "# Calculando a média ponderada\n",
        "media_final = (nota1 * peso1 + nota2 * peso2 + nota3 * peso3) / (peso1 + peso2 + peso3)\n",
        "\n",
        "# Escrevendo a média final do aluno\n",
        "print(\"A média final do aluno é:\", media_final)"
      ],
      "metadata": {
        "colab": {
          "base_uri": "https://localhost:8080/"
        },
        "id": "9195K-Fpy6K3",
        "outputId": "eee25b6e-7416-4ee6-b841-e59a5918e21f"
      },
      "execution_count": null,
      "outputs": [
        {
          "output_type": "stream",
          "name": "stdout",
          "text": [
            "Digite a primeira nota: 7\n",
            "Digite a segunda nota: 9\n",
            "Digite a terceira nota: 2\n",
            "A média final do aluno é: 5.1\n"
          ]
        }
      ]
    },
    {
      "cell_type": "markdown",
      "source": [
        "### Questão 5. Dado que a fórmula para conversão de Fahrenheit para Celsius é C = 5/9 (F – 32), faça um algoritmo que leia um valor de temperatura em Fahrenheit e imprima o resultado em Celsius."
      ],
      "metadata": {
        "id": "1XssYaNXytK9"
      }
    },
    {
      "cell_type": "code",
      "source": [
        "# Lendo o valor da temperatura em Fahrenheit\n",
        "temp_fahrenheit = float(input(\"Digite a temperatura em Fahrenheit: \"))\n",
        "\n",
        "# Convertendo Fahrenheit para Celsius usando a fórmula\n",
        "temp_celsius = (temp_fahrenheit - 32) * 5/9\n",
        "\n",
        "# Escrevendo o resultado em Celsius\n",
        "print(\"A temperatura em Celsius é:\", temp_celsius, \"graus Celsius\")"
      ],
      "metadata": {
        "colab": {
          "base_uri": "https://localhost:8080/"
        },
        "id": "sqa4C4p0zG7I",
        "outputId": "ca359184-2c3f-45e3-f9f6-fbac782d0ea3"
      },
      "execution_count": null,
      "outputs": [
        {
          "output_type": "stream",
          "name": "stdout",
          "text": [
            "Digite a temperatura em Fahrenheit: 59\n",
            "A temperatura em Celsius é: 15.0 graus Celsius\n"
          ]
        }
      ]
    },
    {
      "cell_type": "markdown",
      "source": [
        "### Questão 6. Escreva um algoritmo para ler dois valores numéricos inteiros (representados pelas variáveis A e B) e apresentar o resultado do quadrado da diferença do primeiro valor (variável A) em relação ao segundo valor (variável B)."
      ],
      "metadata": {
        "id": "8mOC99FDzSmi"
      }
    },
    {
      "cell_type": "code",
      "source": [
        "# Lendo os valores de A e B\n",
        "A = int(input(\"Digite o valor de A: \"))\n",
        "B = int(input(\"Digite o valor de B: \"))\n",
        "\n",
        "# Calculando a diferença entre A e B\n",
        "diferenca = A - B\n",
        "\n",
        "# Calculando o quadrado da diferença\n",
        "quadrado_diferenca = diferenca ** 2\n",
        "\n",
        "# Apresentando o resultado\n",
        "print(\"O quadrado da diferença entre\", A, \"e\", B, \"é:\", quadrado_diferenca)"
      ],
      "metadata": {
        "colab": {
          "base_uri": "https://localhost:8080/"
        },
        "id": "nsXIxrBlzZJB",
        "outputId": "72cc23c3-ea5c-4362-8136-adb35f9c2207"
      },
      "execution_count": null,
      "outputs": [
        {
          "output_type": "stream",
          "name": "stdout",
          "text": [
            "Digite o valor de A: 9\n",
            "Digite o valor de B: 3\n",
            "O quadrado da diferença entre 9 e 3 é: 36\n"
          ]
        }
      ]
    },
    {
      "cell_type": "markdown",
      "source": [
        "### Questão 7. Construa um programa que leia um valor numérico inteiro e apresente como resultado os seus valores: sucessor e antecessor."
      ],
      "metadata": {
        "id": "PmJiTG-l0JXy"
      }
    },
    {
      "cell_type": "code",
      "source": [
        "# Lendo o valor numérico inteiro\n",
        "numero = int(input(\"Digite um valor numérico inteiro: \"))\n",
        "\n",
        "# Calculando o sucessor\n",
        "sucessor = numero + 1\n",
        "\n",
        "# Calculando o antecessor\n",
        "antecessor = numero - 1\n",
        "\n",
        "# Apresentando os resultados\n",
        "print(\"O sucessor de\", numero, \"é:\", sucessor)\n",
        "print(\"O antecessor de\", numero, \"é:\", antecessor)"
      ],
      "metadata": {
        "colab": {
          "base_uri": "https://localhost:8080/"
        },
        "id": "NZLJfn220NgR",
        "outputId": "3049de9b-3e7e-48cc-e543-3502e8784100"
      },
      "execution_count": null,
      "outputs": [
        {
          "output_type": "stream",
          "name": "stdout",
          "text": [
            "Digite um valor numérico inteiro: 10\n",
            "O sucessor de 10 é: 11\n",
            "O antecessor de 10 é: 9\n"
          ]
        }
      ]
    },
    {
      "cell_type": "markdown",
      "source": [
        "### Questão 8. Faça um algoritmo que leia quanto dinheiro uma pessoa tem na carteira (em R\\$) e mostre quantos dólares ela pode comprar. Considere U\\$\\$1,00 = R$5,14."
      ],
      "metadata": {
        "id": "NxKX1P3n0a2D"
      }
    },
    {
      "cell_type": "code",
      "source": [
        "# Lendo a quantidade de dinheiro em reais na carteira\n",
        "dinheiro_reais = float(input(\"Digite quanto dinheiro você tem em reais (R$): \"))\n",
        "\n",
        "# Definindo a taxa de câmbio de reais para dólares\n",
        "taxa_cambio = 5.14  # 1 dólar = R$5,14\n",
        "\n",
        "# Calculando a quantidade de dólares que podem ser comprados\n",
        "dinheiro_dolares = dinheiro_reais / taxa_cambio\n",
        "\n",
        "# Apresentando o resultado\n",
        "print(\"Com\", dinheiro_reais, \"reais, você pode comprar aproximadamente\", dinheiro_dolares, \"dólares.\")"
      ],
      "metadata": {
        "colab": {
          "base_uri": "https://localhost:8080/"
        },
        "id": "c-OpOA2O0zp2",
        "outputId": "0d0f0dcc-d2b6-4c18-a0eb-d782269caa88"
      },
      "execution_count": null,
      "outputs": [
        {
          "output_type": "stream",
          "name": "stdout",
          "text": [
            "Digite quanto dinheiro você tem em reais (R$): 70\n",
            "Com 70.0 reais, você pode comprar aproximadamente 13.618677042801558 dólares.\n"
          ]
        }
      ]
    },
    {
      "cell_type": "markdown",
      "source": [
        "### Questão 9. Crie um algoritmo que leia o número de dias trabalhados em um mês e mostre o salário de um funcionário, sabendo que ele trabalha 8 horas por dia e ganha R$25 por hora trabalhada. Suponha que o mês tem 30 dias."
      ],
      "metadata": {
        "id": "4xaQ0_1V06hw"
      }
    },
    {
      "cell_type": "code",
      "source": [
        "# Definindo as constantes\n",
        "dias_por_mes = 30\n",
        "horas_por_dia = 8\n",
        "salario_por_hora = 25\n",
        "\n",
        "# Lendo o número de dias trabalhados no mês\n",
        "dias_trabalhados = int(input(\"Digite o número de dias trabalhados no mês: \"))\n",
        "\n",
        "# Calculando o salário total\n",
        "salario_total = dias_trabalhados * horas_por_dia * salario_por_hora\n",
        "\n",
        "# Apresentando o resultado\n",
        "print(\"O salário do funcionário é R$\", salario_total)"
      ],
      "metadata": {
        "colab": {
          "base_uri": "https://localhost:8080/"
        },
        "id": "0lLpsYjY1DBB",
        "outputId": "eace14a6-ddc7-4796-fb21-33c591864dc7"
      },
      "execution_count": null,
      "outputs": [
        {
          "output_type": "stream",
          "name": "stdout",
          "text": [
            "Digite o número de dias trabalhados no mês: 23\n",
            "O salário do funcionário é R$ 4600\n"
          ]
        }
      ]
    },
    {
      "cell_type": "markdown",
      "source": [
        "### Questão 10. Faça um algoritmo que transforme uma velocidade fornecida em m/s pelo usuário para Km/h. Para isso, multiplique o valor em m/s por 3,6."
      ],
      "metadata": {
        "id": "rKNGeump1PpC"
      }
    },
    {
      "cell_type": "code",
      "source": [
        "# Lendo a velocidade em m/s fornecida pelo usuário\n",
        "velocidade_ms = float(input(\"Digite a velocidade em metros por segundo (m/s): \"))\n",
        "\n",
        "# Convertendo a velocidade de m/s para km/h\n",
        "velocidade_kmh = velocidade_ms * 3.6\n",
        "\n",
        "# Apresentando o resultado\n",
        "print(\"A velocidade é de\", velocidade_kmh, \"quilômetros por hora (km/h).\")"
      ],
      "metadata": {
        "colab": {
          "base_uri": "https://localhost:8080/"
        },
        "id": "Mi0M325e1V0q",
        "outputId": "ca8b6458-a7fb-42ec-dad3-81566b67b76c"
      },
      "execution_count": null,
      "outputs": [
        {
          "output_type": "stream",
          "name": "stdout",
          "text": [
            "Digite a velocidade em metros por segundo (m/s): 57\n",
            "A velocidade é de 205.20000000000002 quilômetros por hora (km/h).\n"
          ]
        }
      ]
    }
  ]
}